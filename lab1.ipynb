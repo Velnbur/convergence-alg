{
 "cells": [
  {
   "cell_type": "markdown",
   "metadata": {},
   "source": [
    "# Лабораторна робота №1. Байбула Кирило Аленович ДО-3. Варіант 70\n",
    "\n",
    "## Умова\n",
    "\n",
    "Знайти найбiльший корiнь нелiнiйного рiвняння $ x^{3} + 6x^{2} + 9x + 2 = 0 $ методом Ньютона i модифiкованим Ньютона з точнiстю $ \\varepsilon = 10^{−4} $. Знайти апрiорну та апостерiорну оцiнку кiлькостi крокiв. Початковий промiжок та початкове наближення обрати однакове для обох методiв (якщо це можливо), порiвняти результати роботи\n",
    "методiв мiж собою.\n",
    "\n",
    "## Оцінка\n",
    "\n",
    "Нижче реалізація функції $ f(x) = x^{3} + 6x^{2} + 9x + 2 $ як Python лямбда функція, яка і буде оцінюватися у коді далі. Також одразу позначимо точність через константу `EPSILON`:"
   ]
  },
  {
   "cell_type": "code",
   "execution_count": 1,
   "metadata": {},
   "outputs": [],
   "source": [
    "f = lambda x: x**3 + 6 * (x**2) + 9 * x + 2\n",
    "\n",
    "EPSILON = 10 ** (-4)"
   ]
  },
  {
   "cell_type": "markdown",
   "metadata": {},
   "source": [
    "Створимо множину визначень функції $f(x)$, таку що $X = [-4, 1]$ за допомогою модуля `numpy`."
   ]
  },
  {
   "cell_type": "code",
   "execution_count": 2,
   "metadata": {},
   "outputs": [],
   "source": [
    "import numpy as np\n",
    "\n",
    "# для графіка вистачить і 100 точок\n",
    "X = np.linspace(-4,1,100)"
   ]
  },
  {
   "cell_type": "markdown",
   "metadata": {},
   "source": [
    "Так само, відповідну множину значень $ Y = \\{ f(x) |\\ x \\in X \\} $."
   ]
  },
  {
   "cell_type": "code",
   "execution_count": 3,
   "metadata": {},
   "outputs": [],
   "source": [
    "Y = [f(x) for x in X]"
   ]
  },
  {
   "cell_type": "markdown",
   "metadata": {},
   "source": [
    "### Оцінка корення за допомогою графіка\n",
    "\n",
    "Використовуючи бібліотеку `matplotlib`, функцію і множини створенні раніше, намалюємо графік утвореної функції із осями координат."
   ]
  },
  {
   "cell_type": "code",
   "execution_count": 4,
   "metadata": {},
   "outputs": [
    {
     "data": {
      "image/png": "[encoded data removed]",
      "text/plain": [
       "<Figure size 432x288 with 1 Axes>"
      ]
     },
     "metadata": {
      "needs_background": "light"
     },
     "output_type": "display_data"
    }
   ],
   "source": [
    "import matplotlib.pyplot as plt\n",
    "\n",
    "plt.axhline(color='black', lw=0.5)\n",
    "plt.axvline(color='black', lw=0.5)\n",
    "\n",
    "plt.plot(X, Y)\n",
    "plt.show()"
   ]
  },
  {
   "cell_type": "markdown",
   "metadata": {},
   "source": [
    "Корені знаходяться у точках, де графік перетинає вісь координат $OX$, тобто:"
   ]
  },
  {
   "cell_type": "code",
   "execution_count": 5,
   "metadata": {},
   "outputs": [
    {
     "data": {
      "image/png": "[encoded data removed]",
      "text/plain": [
       "<Figure size 432x288 with 1 Axes>"
      ]
     },
     "metadata": {
      "needs_background": "light"
     },
     "output_type": "display_data"
    }
   ],
   "source": [
    "plt.axhline(color='black', lw=0.5)\n",
    "plt.axvline(color='black', lw=0.5)\n",
    "\n",
    "plt.plot(X, Y)\n",
    "plt.plot(-3.7321, 0, \"go\")\n",
    "plt.plot(-2.0, 0, \"go\")\n",
    "plt.plot(-0.2679, 0, \"go\")\n",
    "plt.show()"
   ]
  },
  {
   "cell_type": "markdown",
   "metadata": {},
   "source": [
    "Звідси коренями з точність $\\varepsilon = 10^{-4}$ будуть:\n",
    "\n",
    "$$\n",
    "\\begin{align}\n",
    "    x_{1} & = -3.7321 \\\\\n",
    "    x_{2} & = -2.0 \\\\\n",
    "    x_{3} & = -0.2679 \\\\\n",
    "\\end{align}\n",
    "$$\n",
    "\n",
    "За умовою, потрібно знайти найбільший корінь, отже досліджуємим проміжком буде $[-1, 1]$, де знаходиться корінь $x_{3}$"
   ]
  },
  {
   "cell_type": "markdown",
   "metadata": {},
   "source": [
    "### Перевірка достатніх умов\n",
    "\n",
    "1. Неперервінсть на проміжку:\n",
    "\n",
    "   $$\n",
    "   f(x) \\in C[a,b], \\forall x \\in [a,b]\n",
    "   $$\n",
    "   \n",
    "   Функція на графіку є неперевною на проміжку $[-1, 1]$.\n",
    "  \n",
    "\n",
    "2. Існування кореня на проміжку:\n",
    "\n",
    "   $$\n",
    "   f(a)*f(b) < 0\n",
    "   $$\n",
    "   \n",
    "    Перевіримо:"
   ]
  },
  {
   "cell_type": "code",
   "execution_count": 6,
   "metadata": {},
   "outputs": [
    {
     "data": {
      "text/plain": [
       "-36"
      ]
     },
     "execution_count": 6,
     "metadata": {},
     "output_type": "execute_result"
    }
   ],
   "source": [
    "f(-1) * f(1)"
   ]
  },
  {
   "cell_type": "markdown",
   "metadata": {},
   "source": [
    "Звідси, друга умова справджується."
   ]
  },
  {
   "cell_type": "markdown",
   "metadata": {},
   "source": [
    "## Метод Ньютона"
   ]
  },
  {
   "cell_type": "markdown",
   "metadata": {},
   "source": [
    "$$\n",
    "x_{n+1} = x_{n} - \\frac{f(x_{n})}{f'(x_{n})}\n",
    "$$\n",
    "\n",
    "\n",
    "Знайдемо похідну функції $f(x)$, що знадобиться далі:\n",
    "\n",
    "$$\n",
    "\\begin{align}\n",
    "    f(x) = & \\ x^{3} + 6x^{2} + 9x + 2 \\\\\n",
    "    f'(x) = & \\ (x^{3})' + (6x^{2})' + (9x)' + (2)' \\\\\n",
    "    f'(x) = & \\ 3 * x^{2} + 6 * 2 * x^{1} + 9 + 0 \\\\ \n",
    "    f'(x) = & \\ 3x^{2} + 12x + 9\n",
    "\\end{align}\n",
    "$$\n",
    "\n",
    "Звідси у коді:"
   ]
  },
  {
   "cell_type": "code",
   "execution_count": 7,
   "metadata": {},
   "outputs": [],
   "source": [
    "f_der = lambda x: 3 * (x ** 2) + 12 * x + 9"
   ]
  },
  {
   "cell_type": "markdown",
   "metadata": {},
   "source": [
    "Так само знайдемо другу похідну:\n",
    "\n",
    "$$\n",
    "\\begin{align} \n",
    "    f'(x) = & \\ 3x^{2} + 12x + 9 \\\\\n",
    "    f''(x) = & \\ 6x + 12\n",
    "\\end{align}\n",
    "$$\n",
    "\n",
    "І у коді:"
   ]
  },
  {
   "cell_type": "code",
   "execution_count": 8,
   "metadata": {},
   "outputs": [],
   "source": [
    "f_der2 = lambda x: 6*x + 12"
   ]
  },
  {
   "cell_type": "markdown",
   "metadata": {},
   "source": [
    "### Апріорна оцінка\n",
    "\n",
    "$$\n",
    "n \\ge \\log_{2} \\left( \\frac{ \\ln(|x_0 - x^{*}| / \\varepsilon }{ \\ln(1/q) } + 1 \\right) + 1\n",
    "$$\n",
    "\n",
    "де $x_{0}$ - початковий значення, $x^{*}$ - шуканий корінь\n",
    "\n",
    "$$\n",
    "q = \\frac{ M_{2} |x_{0} - x^{*}| }{ 2 m_{1} } < 1\n",
    "$$\n",
    "\n",
    "і де $0 \\lt m_{1} = \\min_{x \\in S}{|f'(x)|}$, $M_{2} = \\max_{x \\in S}{|f''(x)|}$"
   ]
  },
  {
   "cell_type": "code",
   "execution_count": 15,
   "metadata": {
    "scrolled": true
   },
   "outputs": [
    {
     "name": "stdout",
     "output_type": "stream",
     "text": [
      "m1=5.08947723\n",
      "q=0.18033124592641123\n"
     ]
    }
   ],
   "source": [
    "x_0 = -0.1\n",
    "root = -0.2679\n",
    "eps = 0.09\n",
    "S = np.linspace(root-eps, root+eps, 1000)\n",
    "\n",
    "m1 = min([abs(f_der(x)) for x in S])\n",
    "print(f\"{m1=}\")\n",
    "\n",
    "M2 = max([abs(f_der2(x)) for x in S])\n",
    "\n",
    "q = (M2 * abs(x_0 - root)) / (2 * m1)\n",
    "\n",
    "print(f\"{q=}\")"
   ]
  },
  {
   "cell_type": "code",
   "execution_count": 10,
   "metadata": {},
   "outputs": [
    {
     "name": "stdout",
     "output_type": "stream",
     "text": [
      "n=3.3017369858464534\n"
     ]
    }
   ],
   "source": [
    "import math\n",
    "\n",
    "n = math.log2(math.log(abs(x_0 - root)/(2*EPSILON)) / math.log(1/q) + 1) + 1\n",
    "\n",
    "print(f\"{n=}\")"
   ]
  },
  {
   "cell_type": "markdown",
   "metadata": {},
   "source": [
    "Апріорна оцінка к-ті кроків: $n = 3$"
   ]
  },
  {
   "cell_type": "markdown",
   "metadata": {},
   "source": [
    "### Апостріорна оцінка"
   ]
  },
  {
   "cell_type": "code",
   "execution_count": 11,
   "metadata": {
    "scrolled": true
   },
   "outputs": [
    {
     "name": "stdout",
     "output_type": "stream",
     "text": [
      "Ітерація 0: x = -0.2480\n",
      "Ітерація 1: x = -0.2676\n",
      "Ітерація 2: x = -0.2679\n"
     ]
    }
   ],
   "source": [
    "MAX_ITERATION = 100 # максимальна кількість ітерацій для знаходження корення\n",
    "\n",
    "prev = x_0\n",
    "curr = 0\n",
    "\n",
    "for i in range(MAX_ITERATION):\n",
    "    curr = prev - f(prev) / f_der(prev)\n",
    "    \n",
    "    if abs(curr - prev) < EPSILON:\n",
    "        break\n",
    "\n",
    "    prev = curr\n",
    "    \n",
    "    print(f\"Ітерація {i}: x = {curr:.4f}\")"
   ]
  },
  {
   "cell_type": "markdown",
   "metadata": {},
   "source": [
    "Звідси, апостеріорна оцінка к-ті кроків: $n = 3$"
   ]
  },
  {
   "cell_type": "markdown",
   "metadata": {},
   "source": [
    "## Модифікований метод Ньютона\n",
    "\n",
    "$$\n",
    "x_{n+1} = x_{n} - \\frac{f(x_{n})}{f'(x_{0})}\n",
    "$$"
   ]
  },
  {
   "cell_type": "markdown",
   "metadata": {},
   "source": [
    "### Перевірка умов\n",
    "\n",
    "1. Як побачили вище, перша похідна не тотожній нуль.\n",
    "\n",
    "1. Так само, друга похідна існує.\n",
    "\n",
    "1. З пункту про [апріорну оціну](#Апріорна-оцінка), вийшло що $q < 1$\n",
    "\n",
    "1. І так як друга похідна $ f''(x) = 6x + 12 $, і досліджуємий окіл корення: $[-0.3579, -0.1779]$, то звідси похідна на цьому проміжку існує\n",
    "\n",
    "1. $f(x_{0}) * f''(x_{0}) \\gt 0$:"
   ]
  },
  {
   "cell_type": "code",
   "execution_count": 12,
   "metadata": {},
   "outputs": [
    {
     "data": {
      "text/plain": [
       "13.2126"
      ]
     },
     "execution_count": 12,
     "metadata": {},
     "output_type": "execute_result"
    }
   ],
   "source": [
    "f(x_0) * f_der2(x_0)"
   ]
  },
  {
   "cell_type": "markdown",
   "metadata": {},
   "source": [
    "### Апріорна оцінка\n",
    "\n",
    "Буде абсолютно такою самою, як і в звичайному методі Ньютона"
   ]
  },
  {
   "cell_type": "markdown",
   "metadata": {},
   "source": [
    "### Апостріорна оцінка"
   ]
  },
  {
   "cell_type": "code",
   "execution_count": 13,
   "metadata": {},
   "outputs": [
    {
     "name": "stdout",
     "output_type": "stream",
     "text": [
      "Ітерація 0: x = -0.2480\n",
      "Ітерація 1: x = -0.2636\n",
      "Ітерація 2: x = -0.2669\n",
      "Ітерація 3: x = -0.2677\n",
      "Ітерація 4: x = -0.2679\n"
     ]
    }
   ],
   "source": [
    "MAX_ITERATION = 100 # максимальна кількість ітерацій для знаходження корення\n",
    "\n",
    "prev = x_0\n",
    "f_der0 = f_der(prev)\n",
    "curr = 0\n",
    "\n",
    "for i in range(MAX_ITERATION):\n",
    "    curr = prev - f(prev) / f_der0\n",
    "    \n",
    "    if abs(curr - prev) < EPSILON:\n",
    "        break\n",
    "\n",
    "    prev = curr\n",
    "    \n",
    "    print(f\"Ітерація {i}: x = {curr:.4f}\")"
   ]
  },
  {
   "cell_type": "markdown",
   "metadata": {},
   "source": [
    "Звідси, апостеріорна оцінка к-ті кроків: $n = 5$"
   ]
  },
  {
   "cell_type": "markdown",
   "metadata": {},
   "source": [
    "## Висновок\n",
    "\n",
    "Отже, бачимо різницю у швидкості збіжності звичайного методу Ньютона та модифікованого методу. Що є наслідком природи останього, так як модифікований метод Ньютона збігається лінійно на відміну від звичайного методу Ньютона."
   ]
  }
 ],
 "metadata": {
  "kernelspec": {
   "display_name": "Python 3",
   "language": "python",
   "name": "python3"
  },
  "language_info": {
   "codemirror_mode": {
    "name": "ipython",
    "version": 3
   },
   "file_extension": ".py",
   "mimetype": "text/x-python",
   "name": "python",
   "nbconvert_exporter": "python",
   "pygments_lexer": "ipython3",
   "version": "3.8.10"
  }
 },
 "nbformat": 4,
 "nbformat_minor": 4
}
